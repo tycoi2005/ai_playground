{
 "cells": [
  {
   "cell_type": "code",
   "execution_count": null,
   "id": "13c13107",
   "metadata": {},
   "outputs": [
    {
     "name": "stderr",
     "output_type": "stream",
     "text": [
      "2025-06-25 13:46:59.487 python[88270:26281247] WARNING: AVCaptureDeviceTypeExternal is deprecated for Continuity Cameras. Please use AVCaptureDeviceTypeContinuityCamera and add NSCameraUseContinuityCameraDeviceType to your Info.plist.\n"
     ]
    },
    {
     "name": "stdout",
     "output_type": "stream",
     "text": [
      "Starting emotion detection. Press 'q' or 'Esc' to exit.\n",
      "Exit key pressed. Closing program.\n"
     ]
    },
    {
     "ename": "",
     "evalue": "",
     "output_type": "error",
     "traceback": [
      "\u001b[1;31mThe Kernel crashed while executing code in the current cell or a previous cell. \n",
      "\u001b[1;31mPlease review the code in the cell(s) to identify a possible cause of the failure. \n",
      "\u001b[1;31mClick <a href='https://aka.ms/vscodeJupyterKernelCrash'>here</a> for more info. \n",
      "\u001b[1;31mView Jupyter <a href='command:jupyter.viewOutput'>log</a> for further details."
     ]
    }
   ],
   "source": [
    "import cv2\n",
    "from deepface import DeepFace\n",
    "\n",
    "# --- Main Program ---\n",
    "\n",
    "# Use OpenCV to capture video from the webcam.\n",
    "cap = cv2.VideoCapture(0)\n",
    "\n",
    "# Check if the webcam is opened correctly\n",
    "if not cap.isOpened():\n",
    "    raise IOError(\"Cannot open webcam\")\n",
    "\n",
    "print(\"Starting emotion detection. Press 'q' or 'Esc' to exit.\")\n",
    "\n",
    "while True:\n",
    "    # Read a frame from the webcam\n",
    "    ret, frame = cap.read()\n",
    "    if not ret:\n",
    "        break\n",
    "\n",
    "    # We'll work with a copy of the frame\n",
    "    result_frame = frame.copy()\n",
    "\n",
    "    try:\n",
    "        # Use DeepFace to analyze the frame for emotions.\n",
    "        # We specify 'opencv' as the detector backend, which is very reliable.\n",
    "        # 'enforce_detection=False' allows the program to continue if no face is found.\n",
    "        analysis_results = DeepFace.analyze(\n",
    "            img_path=frame,\n",
    "            actions=['emotion'],\n",
    "            enforce_detection=False,\n",
    "            detector_backend='opencv' # Switched to opencv for reliability\n",
    "        )\n",
    "\n",
    "        # DeepFace.analyze returns a list of dictionaries, one for each detected face.\n",
    "        for result in analysis_results:\n",
    "            # Get the bounding box of the face\n",
    "            x = result['region']['x']\n",
    "            y = result['region']['y']\n",
    "            w = result['region']['w']\n",
    "            h = result['region']['h']\n",
    "\n",
    "            # Get the dominant emotion\n",
    "            dominant_emotion = result['dominant_emotion']\n",
    "\n",
    "            # Define text and box color (green)\n",
    "            text_color = (0, 255, 0)\n",
    "            box_color = (0, 255, 0)\n",
    "\n",
    "            # Draw a rectangle around the detected face\n",
    "            cv2.rectangle(result_frame, (x, y), (x + w, y + h), box_color, 2)\n",
    "\n",
    "            # Prepare the text to display (emotion)\n",
    "            text = f\"Emotion: {dominant_emotion.capitalize()}\"\n",
    "\n",
    "            # Put the text on the frame\n",
    "            # We place it slightly above the bounding box\n",
    "            text_position = (x, y - 10)\n",
    "            cv2.putText(result_frame, text, text_position, cv2.FONT_HERSHEY_SIMPLEX, 0.9, text_color, 2)\n",
    "\n",
    "    except Exception as e:\n",
    "        # This can happen if no face is detected with enforce_detection=True\n",
    "        # With it set to False, we'll just see other potential errors.\n",
    "        pass # We can pass silently to keep the video stream smooth\n",
    "\n",
    "    # Display the resulting frame\n",
    "    cv2.imshow('Facial Emotion Recognition', result_frame)\n",
    "\n",
    "    # --- THIS IS THE MODIFIED SECTION ---\n",
    "    # Check for user input to exit\n",
    "    key_pressed = cv2.waitKey(1) & 0xFF\n",
    "\n",
    "    # Break the loop if 'q' or the 'Esc' key is pressed\n",
    "    if key_pressed == ord('q') or key_pressed == 27: # 27 is the ASCII code for the Escape key\n",
    "        print(\"Exit key pressed. Closing program.\")\n",
    "        break\n",
    "    # ------------------------------------\n",
    "\n",
    "# --- Cleanup ---\n",
    "# Release the webcam and destroy all windows\n",
    "cap.release()\n",
    "cv2.destroyAllWindows()"
   ]
  }
 ],
 "metadata": {
  "kernelspec": {
   "display_name": "Python 3",
   "language": "python",
   "name": "python3"
  },
  "language_info": {
   "codemirror_mode": {
    "name": "ipython",
    "version": 3
   },
   "file_extension": ".py",
   "mimetype": "text/x-python",
   "name": "python",
   "nbconvert_exporter": "python",
   "pygments_lexer": "ipython3",
   "version": "3.11.10"
  }
 },
 "nbformat": 4,
 "nbformat_minor": 5
}
